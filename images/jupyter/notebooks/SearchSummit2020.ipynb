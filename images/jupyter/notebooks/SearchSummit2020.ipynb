{
 "cells": [
  {
   "cell_type": "markdown",
   "metadata": {},
   "source": [
    "# Search Summit 2020\n",
    "\n",
    "The following experiment attempts to recommend peer reviewers for new Works based on tagged Omniscience concepts. The underlying technology used is Neo4j, the Neosemantics (n10s) plugin, and the Neo4j Graph Data Science (gds) plugin. The following notebook provides useful markup for understanding the process of loading data, and experimentation via the py2neo library.\n",
    "\n",
    "Since this is done on a local machine, the knowledge graphs are small to demonstrate functionality."
   ]
  },
  {
   "cell_type": "markdown",
   "metadata": {},
   "source": [
    "## Problem: Recommending Peer Reviewers Based on Existing Concepts"
   ]
  },
  {
   "cell_type": "markdown",
   "metadata": {},
   "source": [
    "### Configuring to Our Local Graph Instance"
   ]
  },
  {
   "cell_type": "code",
   "execution_count": 1,
   "metadata": {},
   "outputs": [],
   "source": [
    "from py2neo import Graph\n",
    "import os"
   ]
  },
  {
   "cell_type": "markdown",
   "metadata": {},
   "source": [
    "We connect to a linked neo4j docker instance within our bridged network. Since this is a local demonstration, security is not a concern."
   ]
  },
  {
   "cell_type": "code",
   "execution_count": 2,
   "metadata": {},
   "outputs": [],
   "source": [
    "uri = 'http://neo4j:7474/'\n",
    "graph = Graph(uri, user='neo4j', password='test')"
   ]
  },
  {
   "cell_type": "markdown",
   "metadata": {},
   "source": [
    "Calling Neosemantics `graphconfig.init()` to load the constraints for dealing with Linked Data."
   ]
  },
  {
   "cell_type": "code",
   "execution_count": 6,
   "metadata": {},
   "outputs": [
    {
     "data": {
      "text/plain": [
       " param           | value   \n",
       "-----------------|---------\n",
       " handleVocabUris | SHORTEN \n",
       " handleMultival  | ARRAY   \n",
       " handleRDFTypes  | LABELS  "
      ]
     },
     "execution_count": 6,
     "metadata": {},
     "output_type": "execute_result"
    }
   ],
   "source": [
    "graph.run('CALL n10s.graphconfig.init({ handleMultival: \"ARRAY\"})')"
   ]
  },
  {
   "cell_type": "markdown",
   "metadata": {},
   "source": [
    "Presetting some common prefixes to make the graph readable, and forcing Neosemantics to use appropriate namespace prefixes."
   ]
  },
  {
   "cell_type": "code",
   "execution_count": 7,
   "metadata": {},
   "outputs": [
    {
     "data": {
      "text/plain": [
       " prefix                                       | namespace                                                                  \n",
       "----------------------------------------------|----------------------------------------------------------------------------\n",
       " egq                                          | http://www.elsevier.com/xml/schema/rdf/ElsevierGenericSequenceSatellite-1/ \n",
       " teamwork                                     | http://topbraid.org/teamwork#                                              \n",
       " provenance_authoring_and_versioning_ontology | http://purl.org/pav/                                                       "
      ]
     },
     "execution_count": 7,
     "metadata": {},
     "output_type": "execute_result"
    }
   ],
   "source": [
    "prefixSetter = \"\"\"\n",
    "WITH '\n",
    "@prefix : <http://prismstandard.org/namespaces/basic/2.0/> .\n",
    "@prefix a1: <http://www.elsevier.com/xml/schema/grant/grant-1.1> .\n",
    "@prefix a2: <http://www.elsevier.com/xml/schema/grant/grant-1.2> .\n",
    "@prefix arg: <http://spinrdf.org/arg#> .\n",
    "@prefix bam: <http://www.elsevier.com/xml/schema/rdf/BasicAssetMetadata-1/> .\n",
    "@prefix dash: <http://datashapes.org/dash#> .\n",
    "@prefix dcam: <http://purl.org/dc/dcam/> .\n",
    "@prefix dcat: <http://www.w3.org/ns/dcat#> .\n",
    "@prefix ebs: <http://www.elsevier.com/xml/schema/rdf/EMMeTBasicSatellite-1/> .\n",
    "@prefix ecm: <http://www.elsevier.com/xml/schema/rdf/common/Metadata-1/> .\n",
    "@prefix edg: <http://edg.topbraid.solutions/model/> .\n",
    "@prefix edm: <https://data.elsevier.com/schema/edm/> .\n",
    "@prefix egm: <http://www.elsevier.com/xml/schema/rdf/ElsevierGenericMembershipSatellite-1/> .\n",
    "@prefix egq: <http://www.elsevier.com/xml/schema/rdf/ElsevierGenericSequenceSatellite-1/> .\n",
    "@prefix egv: <http://www.elsevier.com/xml/schema/rdf/ElsevierGenericVocabularySatellite-1/> .\n",
    "@prefix emloc: <http://data.elsevier.com/vocabulary/EMMeT/locrel/> .\n",
    "@prefix emst: <http://www.elsevier.com/xml/schema/rdf/EGVSatelliteTagging-1/> .\n",
    "@prefix epr: <http://www.elsevier.com/xml/schema/rdf/EMMeTProvenanceSatellite-1/> .\n",
    "@prefix eum: <https://data.elsevier.com/schema/unitsOfMeasure/> .\n",
    "@prefix evo: <https://data.elsevier.com/schema/evo/> .\n",
    "@prefix geo-ont: <http://www.geonames.org/ontology#> .\n",
    "@prefix graphql: <http://datashapes.org/graphql#> .\n",
    "@prefix idm: <https://data.elsevier.com/schema/idm/> .\n",
    "@prefix idtype: <https://data.elsevier.com/e/identifier/> .\n",
    "@prefix knovel_properties_vocabulary: <https://data.elsevier.com/engineering/knovel/properties/schema/> .\n",
    "@prefix knovelproperties: <http://data.elsevier.com/vocabulary/knovel/properties/> .\n",
    "@prefix metadata: <http://topbraid.org/metadata#> .\n",
    "@prefix oa: <http://www.w3.org/ns/oa#> .\n",
    "@prefix omniscienceextensionmerged_02052019: <http://data.elsevier.com/vocabulary/OmniScienceExtension/> .\n",
    "@prefix os: <http://data.elsevier.com/vocabulary/OmniScience/> .\n",
    "@prefix owl: <http://www.w3.org/2002/07/owl#> .\n",
    "@prefix pav: <http://purl.org/swan/pav/provenance/> .\n",
    "@prefix prov: <http://www.w3.org/ns/prov#> .\n",
    "@prefix provenance_authoring_and_versioning_ontology: <http://purl.org/pav/> .\n",
    "@prefix rdf: <http://www.w3.org/1999/02/22-rdf-syntax-ns#> .\n",
    "@prefix rdfs: <http://www.w3.org/2000/01/rdf-schema#> .\n",
    "@prefix rv: <https://data.elsevier.com/research/schema/rv/> .\n",
    "@prefix s: <http://states.data/> .\n",
    "@prefix sat: <http://www.elsevier.com/xml/schema/rdf/LDR-Satellites/Base-1/> .\n",
    "@prefix schema: <https://none.schema.org/> .\n",
    "@prefix semrel: <http://data.elsevier.com/EMMeT/SemRelations/> .\n",
    "@prefix sh: <http://www.w3.org/ns/shacl#> .\n",
    "@prefix skm: <http://synaptica.net/skm/> .\n",
    "@prefix skmse: <http://synaptica.net/skm/subElement/> .\n",
    "@prefix skos: <http://www.w3.org/2004/02/skos/core#> .\n",
    "@prefix skos_inferences: <urn:x-evn-master:skos_inferences/> .\n",
    "@prefix skosshapes: <http://topbraid.org/skos.shapes#> .\n",
    "@prefix skosxl: <http://www.w3.org/2008/05/skos-xl#> .\n",
    "@prefix smf: <http://topbraid.org/sparqlmotionfunctions#> .\n",
    "@prefix sp: <http://spinrdf.org/sp#> .\n",
    "@prefix spin: <http://spinrdf.org/spin#> .\n",
    "@prefix spl: <http://spinrdf.org/spl#> .\n",
    "@prefix svf: <http://www.elsevier.com/xml/schema/grant/grant-1.2/> .\n",
    "@prefix swa: <http://topbraid.org/swa#> .\n",
    "@prefix tag: <http://www.elsevier.com/xml/schema/rdf/LDR-Satellites/TagAnnot-1/> .\n",
    "@prefix teamwork: <http://topbraid.org/teamwork#> .\n",
    "@prefix teamworkconstraints: <http://topbraid.org/teamworkconstraints#> .\n",
    "@prefix tosh: <http://topbraid.org/tosh#> .\n",
    "@prefix vann: <http://purl.org/vocab/vann/> .\n",
    "@prefix void: <http://rdfs.org/ns/void#> .\n",
    "@prefix wgs: <http://www.w3.org/2003/01/geo/wgs84_pos#> .\n",
    "@prefix xml: <http://www.w3.org/XML/1998/namespace> .\n",
    "@prefix xsd: <http://www.w3.org/2001/XMLSchema#> .\n",
    "@prefix xsi: <http://www.w3.org/2001/XMLSchema-instance> .\n",
    "@prefix zthes: <http://synaptica.net/zthes/> .\n",
    "' AS prefixes\n",
    "CALL n10s.nsprefixes.addFromText(prefixes)\n",
    "YIELD prefix, namespace\n",
    "RETURN prefix, namespace\n",
    "\"\"\"\n",
    "graph.run(prefixSetter)"
   ]
  },
  {
   "cell_type": "markdown",
   "metadata": {},
   "source": [
    "Creating a uniqueness constraint on Resources. Resources are defined as nodes that can be dereferenced via their `uri` property."
   ]
  },
  {
   "cell_type": "code",
   "execution_count": 8,
   "metadata": {},
   "outputs": [],
   "source": [
    "if not graph.schema.get_uniqueness_constraints('Resource'):\n",
    "    graph.schema.create_uniqueness_constraint('Resource', 'uri')"
   ]
  },
  {
   "cell_type": "markdown",
   "metadata": {},
   "source": [
    "First, we will load the Omniscience vocabulary. This will give us a way to connect Books/Chapters/Articles annotated concepts.\n",
    "\n",
    "**Warning:** Executing this takes time - be sure to skip over it if you're sure the vocab is loaded!"
   ]
  },
  {
   "cell_type": "code",
   "execution_count": 39,
   "metadata": {},
   "outputs": [
    {
     "name": "stdout",
     "output_type": "stream",
     "text": [
      "Successfully loaded Omniscience vocabulary.\n"
     ]
    }
   ],
   "source": [
    "graph.run(\"CALL n10s.rdf.import.fetch('file:///var/lib/neo4j/import/omniscience/statements.ttl', 'Turtle')\")\n",
    "print('Successfully loaded Omniscience vocabulary.')"
   ]
  },
  {
   "cell_type": "markdown",
   "metadata": {},
   "source": [
    "Next, we will load sample annotation RDF. The container volume `/var/lib/neo4j/import/omniscience` contains relevant omniscience samples. The subdirectory `c-graph` contains related CSV files taken from the dev c-graph neo-4j cluster to link articles, concepts, authors, and references.\n",
    "\n",
    "This is very ugly, but I wanted to avoid sharing mounted volumes between neo4j and jupyter instances."
   ]
  },
  {
   "cell_type": "code",
   "execution_count": 40,
   "metadata": {},
   "outputs": [],
   "source": [
    "piis = [\"S0002944017305370\",\"S0002944017306740\",\"S0002944017306867\",\"S0002944017309409\",\"S0014489417304253\",\n",
    "        \"S0014489417304575\",\"S0031302517304488\",\"S0031302517304932\",\"S0031302517305184\",\"S0031302517305238\",\n",
    "        \"S0031302517305287\",\"S088394411730922X\",\"S0093775417300465\",\"S0147956317301516\",\"S0147956317302236\",\n",
    "        \"S0147956317303709\",\"S0147956317304399\",\"S0272771417300768\",\"S0272771417300987\",\"S0272771417305280\",\n",
    "        \"S0272771417305711\",\"S0272771417306650\",\"S0883944116308796\",\"S0883944117308808\",\"S0883944117310109\",\n",
    "        \"S0883944117310638\",\"S0883944117311176\",\"S0883944117312030\",\"S0883944117316453\",\"S0883944117316933\",\n",
    "        \"S0883944117316945\",\"S0894113017303393\",\"S2376999817300417\",\"S2405844017300968\",\"S2405844017304152\",\n",
    "        \"S2405844017306084\",\"S2405844017309210\",\"S2405844017310204\",\"S2405844017312641\",\"S2405844017316754\",\n",
    "        \"S2405844017316936\",\"S2405844017317279\",\"S2405844017319369\",\"S2405844017323411\",\"S2405844017326725\"]\n",
    "for pii in piis:\n",
    "    graph.run(\"CALL n10s.rdf.import.fetch('file:///var/lib/neo4j/import/omniscience/works/%s/annotations.rdf', 'RDF/XML')\" % pii)\n",
    "    graph.run(\"\"\"\n",
    "        LOAD CSV WITH HEADERS FROM 'file:///omniscience/works/%s/c-graph/authors.csv' AS rows\n",
    "        WITH rows SKIP 0\n",
    "        MERGE (r:Resource {uri: 'http://vtw.elsevier.com/content/pii/'+rows.pii})\n",
    "        MERGE (a:Author {id: rows.authorId})\n",
    "        MERGE (a)-[:authorOf]->(r)\n",
    "    \"\"\" % pii)\n",
    "    graph.run(\"\"\"\n",
    "        LOAD CSV WITH HEADERS FROM 'file:///omniscience/works/%s/c-graph/refs.csv' AS rows\n",
    "        WITH rows SKIP 0\n",
    "        MERGE (r:Resource {uri: 'http://vtw.elsevier.com/content/pii/'+rows.pii})\n",
    "        MERGE (w:Work {id: rows.workId, publishedDate: rows.publishedDate, updatedDate: rows.updatedDate})\n",
    "        MERGE (w)-[:references]->(r)\n",
    "    \"\"\" % pii)"
   ]
  },
  {
   "cell_type": "code",
   "execution_count": 61,
   "metadata": {},
   "outputs": [
    {
     "data": {
      "text/plain": [
       " resource                                                          | outDegree | inDegree | label                \n",
       "-------------------------------------------------------------------|-----------|----------|----------------------\n",
       " http://data.elsevier.com/vocabulary/OmniScience/Concept-254831502 |         0 |        2 | ['Breast Pathology'] "
      ]
     },
     "execution_count": 61,
     "metadata": {},
     "output_type": "execute_result"
    }
   ],
   "source": [
    "graph.run(\"\"\"\n",
    "    MATCH (r:Resource {uri: 'http://data.elsevier.com/vocabulary/OmniScience/Concept-254831502'})\n",
    "    RETURN r.uri AS resource,\n",
    "    size((r)<-[:skos__broader|:skos__exactMatch]-()) AS outDegree,\n",
    "    size((r)<-[:ecm__isAssignedTo|:skos__narrower]-()) AS inDegree,\n",
    "    r.skos__prefLabel AS label\n",
    "\"\"\")"
   ]
  },
  {
   "cell_type": "code",
   "execution_count": null,
   "metadata": {},
   "outputs": [],
   "source": []
  }
 ],
 "metadata": {
  "kernelspec": {
   "display_name": "Python 3",
   "language": "python",
   "name": "python3"
  },
  "language_info": {
   "codemirror_mode": {
    "name": "ipython",
    "version": 3
   },
   "file_extension": ".py",
   "mimetype": "text/x-python",
   "name": "python",
   "nbconvert_exporter": "python",
   "pygments_lexer": "ipython3",
   "version": "3.8.6"
  }
 },
 "nbformat": 4,
 "nbformat_minor": 4
}
