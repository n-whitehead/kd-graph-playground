{
 "cells": [
  {
   "cell_type": "markdown",
   "metadata": {},
   "source": [
    "## Graph Learning Experiment\n",
    "\n",
    "Since we are running on a local machine, I can't exactly query the 1.5+ million triples in full-c-graph.db... Using a subset of cypher queries from the kd-graph-updater (or potentially new imports?) We will try to learn something about this knowledge set.\n",
    "\n",
    "It is worth noting, since we are using a significantly smaller dataset, neural networks will be ineffective. We will try traditional ML techniques, random walks, and other methods supplied in the Neo4J graph data science library"
   ]
  },
  {
   "cell_type": "code",
   "execution_count": 1,
   "metadata": {},
   "outputs": [],
   "source": [
    "from py2neo import Graph"
   ]
  },
  {
   "cell_type": "markdown",
   "metadata": {},
   "source": [
    "Neo4J graph connector, we are supplying network link url, and credentials (none for now)"
   ]
  },
  {
   "cell_type": "code",
   "execution_count": 3,
   "metadata": {},
   "outputs": [],
   "source": [
    "uri = 'http://neo4j:7474/'\n",
    "graph = Graph(uri)\n",
    "graph = Graph(uri, user='', password='')"
   ]
  },
  {
   "cell_type": "markdown",
   "metadata": {},
   "source": [
    "Let's define a wrapper for our graph object so we can create and tear down nodes/relationships when necessary"
   ]
  },
  {
   "cell_type": "code",
   "execution_count": 4,
   "metadata": {},
   "outputs": [],
   "source": [
    "class CGraphWrapper(object):\n",
    "    \n",
    "    def __init__(self, graph: Graph):\n",
    "        self._graph = graph\n",
    "        self._exports = ['export.auth-citations',\n",
    "                'export.authors-of-article',\n",
    "                'export.authors-of-work',\n",
    "                'export.co-authors',\n",
    "                'export.journal-articles',\n",
    "                'export.organizations']\n",
    "    \n",
    "    @property\n",
    "    def graph(self):\n",
    "        return self._graph\n",
    "    \n",
    "    def load_schemas(self):\n",
    "        tx = self._graph.begin()\n",
    "        for export in self._exports:\n",
    "            tx.run('CALL apoc.cypher.runSchemaFile(\"/var/lib/neo4j/import/schema/%s.schema.cypher\")' % export)\n",
    "        tx.commit()\n",
    "    \n",
    "    def load_data(self):\n",
    "        tx = self._graph.begin()\n",
    "        for export in self._exports:\n",
    "            tx.run('''\n",
    "                    CALL apoc.cypher.runFiles([\"/var/lib/neo4j/import/load/%s.nodes.cypher\",\n",
    "                   \"/var/lib/neo4j/import/load/%s.relationships.cypher\"])\n",
    "                   '''\n",
    "                    % (export, export))\n",
    "        tx.commit()\n",
    "    \n",
    "    def clear_data(self):\n",
    "        self._graph.graph.delete_all()"
   ]
  },
  {
   "cell_type": "markdown",
   "metadata": {},
   "source": [
    "Instance of our graph wrapper:"
   ]
  },
  {
   "cell_type": "code",
   "execution_count": 5,
   "metadata": {},
   "outputs": [],
   "source": [
    "c_graph_sample = CGraphWrapper(graph=graph)"
   ]
  },
  {
   "cell_type": "markdown",
   "metadata": {},
   "source": [
    "Load some data from the `imports/` cypher queries"
   ]
  },
  {
   "cell_type": "code",
   "execution_count": 6,
   "metadata": {},
   "outputs": [],
   "source": [
    "c_graph_sample.load_schemas()"
   ]
  },
  {
   "cell_type": "code",
   "execution_count": 7,
   "metadata": {},
   "outputs": [],
   "source": [
    "c_graph_sample.load_data()"
   ]
  },
  {
   "cell_type": "markdown",
   "metadata": {},
   "source": [
    "### Problem 1: Finding works that are yet to be cited"
   ]
  },
  {
   "cell_type": "markdown",
   "metadata": {},
   "source": [
    "First, let's find the Weakly Connected Components in the graph"
   ]
  },
  {
   "cell_type": "code",
   "execution_count": 8,
   "metadata": {},
   "outputs": [
    {
     "data": {
      "text/plain": [
       "Graph('http://neo4j@neo4j:7474', name='neo4j')"
      ]
     },
     "execution_count": 8,
     "metadata": {},
     "output_type": "execute_result"
    }
   ],
   "source": [
    "c_graph_sample.graph"
   ]
  },
  {
   "cell_type": "code",
   "execution_count": null,
   "metadata": {},
   "outputs": [],
   "source": []
  }
 ],
 "metadata": {
  "kernelspec": {
   "display_name": "Python 3",
   "language": "python",
   "name": "python3"
  },
  "language_info": {
   "codemirror_mode": {
    "name": "ipython",
    "version": 3
   },
   "file_extension": ".py",
   "mimetype": "text/x-python",
   "name": "python",
   "nbconvert_exporter": "python",
   "pygments_lexer": "ipython3",
   "version": "3.8.6"
  }
 },
 "nbformat": 4,
 "nbformat_minor": 4
}
