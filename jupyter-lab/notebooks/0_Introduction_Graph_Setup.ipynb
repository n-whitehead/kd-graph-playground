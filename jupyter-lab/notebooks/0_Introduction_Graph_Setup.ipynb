{
 "cells": [
  {
   "cell_type": "markdown",
   "metadata": {},
   "source": [
    "# Introduction: Graph Setup\n",
    "\n",
    "We will use this notebook to explore `py2neo` and how to connect to our linked Neo4J graph. Once we are able to make a connection to the graph, we can query on it, and use our favorite Python data science libraries to make further insights."
   ]
  },
  {
   "cell_type": "code",
   "execution_count": 4,
   "metadata": {},
   "outputs": [],
   "source": [
    "from py2neo import Graph"
   ]
  },
  {
   "cell_type": "markdown",
   "metadata": {},
   "source": [
    "### Neo4J Connection"
   ]
  },
  {
   "cell_type": "markdown",
   "metadata": {},
   "source": [
    "We connect to a linked neo4j docker instance within our bridged network. Since this is a local demonstration, security is not a concern."
   ]
  },
  {
   "cell_type": "code",
   "execution_count": 5,
   "metadata": {},
   "outputs": [],
   "source": [
    "uri = 'http://neo4j:7474/'\n",
    "graph = Graph(uri, user='neo4j', password='test', name='cgraph')"
   ]
  },
  {
   "cell_type": "markdown",
   "metadata": {},
   "source": [
    "### Neosemantics Configuration"
   ]
  },
  {
   "cell_type": "markdown",
   "metadata": {},
   "source": [
    "Calling Neosemantics `graphconfig.init()` to load the constraints for dealing with Linked Data."
   ]
  },
  {
   "cell_type": "code",
   "execution_count": null,
   "metadata": {},
   "outputs": [],
   "source": [
    "# If graph isn't empty, don't initialize graphconfigs\n",
    "if graph.match_one() == None:\n",
    "    graph.call.n10s.graphconfig.init()\n",
    "graph.call.n10s.graphconfig.show()"
   ]
  },
  {
   "cell_type": "markdown",
   "metadata": {},
   "source": [
    "In the Omniscience taxonomy, there are prefixes available to make the graph readable, and forces `Neosemantics` to use appropriate namespace prefixes."
   ]
  },
  {
   "cell_type": "code",
   "execution_count": null,
   "metadata": {},
   "outputs": [],
   "source": [
    "graph.call.apoc.cypher.runFile('/var/lib/neo4j/import/taxonomy/omniscience/setup/namespaces.cypher')"
   ]
  },
  {
   "cell_type": "markdown",
   "metadata": {},
   "source": [
    "Creating a uniqueness constraint on Resources. Resources are defined as nodes that can be dereferenced via their `uri` property."
   ]
  },
  {
   "cell_type": "code",
   "execution_count": null,
   "metadata": {},
   "outputs": [],
   "source": [
    "if not graph.schema.get_uniqueness_constraints('Resource'):\n",
    "    graph.schema.create_uniqueness_constraint('Resource', 'uri')"
   ]
  },
  {
   "cell_type": "markdown",
   "metadata": {},
   "source": [
    "### Data Loading\n",
    "\n",
    "We will use `Neosemantics` to load a taxonomy in the existing bibliometric C-Graph database."
   ]
  },
  {
   "cell_type": "markdown",
   "metadata": {},
   "source": [
    "#### Loading OmniScience"
   ]
  },
  {
   "cell_type": "code",
   "execution_count": null,
   "metadata": {},
   "outputs": [],
   "source": [
    "# Make sure taxonomy isn't already loaded...\n",
    "if graph.run(\"MATCH (c:skos__Concept) RETURN c LIMIT 1\") == None:\n",
    "    graph.run(\"CALL n10s.rdf.import.fetch('file:///var/lib/neo4j/import/omniscience/statements.ttl', 'Turtle')\")\n",
    "    print('Successfully loaded Omniscience vocabulary.')\n",
    "else:\n",
    "    print('OmniScience taxonomy appears to be loaded.')"
   ]
  },
  {
   "cell_type": "markdown",
   "metadata": {},
   "source": [
    "@TODO: Some experiment calculating hIndex on a concept."
   ]
  },
  {
   "cell_type": "code",
   "execution_count": null,
   "metadata": {},
   "outputs": [],
   "source": [
    "def hIndex(citation_counts: list):\n",
    "    citation_counts.sort(reverse=True)\n",
    "    for index, citation_count in enumerate(citation_counts):\n",
    "        if index > citation_count:\n",
    "            return index\n",
    "    return len(citation_counts)"
   ]
  }
 ],
 "metadata": {
  "kernelspec": {
   "display_name": "Python 3",
   "language": "python",
   "name": "python3"
  },
  "language_info": {
   "codemirror_mode": {
    "name": "ipython",
    "version": 3
   },
   "file_extension": ".py",
   "mimetype": "text/x-python",
   "name": "python",
   "nbconvert_exporter": "python",
   "pygments_lexer": "ipython3",
   "version": "3.8.6"
  }
 },
 "nbformat": 4,
 "nbformat_minor": 4
}
