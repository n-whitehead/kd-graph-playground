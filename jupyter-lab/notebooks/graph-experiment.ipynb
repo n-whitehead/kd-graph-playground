{
 "cells": [
  {
   "cell_type": "code",
   "execution_count": 7,
   "metadata": {},
   "outputs": [],
   "source": [
    "from py2neo import Graph\n",
    "import os"
   ]
  },
  {
   "cell_type": "code",
   "execution_count": 19,
   "metadata": {},
   "outputs": [],
   "source": [
    "class Py2NeoGraph(object):\n",
    "    \n",
    "    def __init__(self, user:str, password:str):\n",
    "        self._graph = Graph('http://neo4j:7474/', user=user, password=password)\n",
    "        self._exports = ['export.auth-citations',\n",
    "                            'export.authors-of-article',\n",
    "                            'export.authors-of-work',\n",
    "                            'export.co-authors',\n",
    "                            'export.journal-articles',\n",
    "                            'export.organizations']\n",
    "    \n",
    "    @property\n",
    "    def graph(self):\n",
    "        return self._graph\n",
    "    \n",
    "    @graph.setter\n",
    "    def graph(self, graph: Graph):\n",
    "        self._graph = graph\n",
    "        \n",
    "    @property\n",
    "    def exports(self):\n",
    "        return self._exports\n",
    "    \n",
    "    #### TODO: make this better\n",
    "    def load_all_schemas_cypher(self):\n",
    "        tx = self.graph.begin()\n",
    "        for export in self.exports:\n",
    "            tx.run('CALL apoc.cypher.runSchemaFile(\"/var/lib/neo4j/import/schema/%s.schema.cypher\")' % export)\n",
    "        tx.commit()\n",
    "    \n",
    "    #### TODO: make this better\n",
    "    def load_all_data_cypher(self):\n",
    "        tx = self.graph.begin()\n",
    "        for export in self.exports:\n",
    "            tx.run('''\n",
    "                    CALL apoc.cypher.runFiles([\"/var/lib/neo4j/import/load/%s.nodes.cypher\",\n",
    "                   \"/var/lib/neo4j/import/load/%s.relationships.cypher\"])'''\n",
    "                    % (export, export))\n",
    "        tx.commit()\n",
    "    \n",
    "    #### TODO: make this better\n",
    "    def clear_all_data_cypher(self):\n",
    "        tx = self.graph.begin()\n",
    "        tx.run(\"CALL apoc.periodic.iterate('MATCH (n) RETURN n', 'DETACH DELETE n', {batchSize:50})\")\n",
    "        tx.commit()\n",
    "        \n",
    "#### If batch loading, using tx.process() every 1000 or so"
   ]
  },
  {
   "cell_type": "code",
   "execution_count": 20,
   "metadata": {},
   "outputs": [],
   "source": [
    "graph = Py2NeoGraph(user='', password='')"
   ]
  },
  {
   "cell_type": "code",
   "execution_count": 21,
   "metadata": {},
   "outputs": [],
   "source": [
    "graph.load_all_schemas_cypher()"
   ]
  },
  {
   "cell_type": "code",
   "execution_count": 22,
   "metadata": {},
   "outputs": [],
   "source": [
    "graph.load_all_data_cypher()"
   ]
  }
 ],
 "metadata": {
  "kernelspec": {
   "display_name": "Python 3",
   "language": "python",
   "name": "python3"
  },
  "language_info": {
   "codemirror_mode": {
    "name": "ipython",
    "version": 3
   },
   "file_extension": ".py",
   "mimetype": "text/x-python",
   "name": "python",
   "nbconvert_exporter": "python",
   "pygments_lexer": "ipython3",
   "version": "3.8.5"
  }
 },
 "nbformat": 4,
 "nbformat_minor": 4
}
