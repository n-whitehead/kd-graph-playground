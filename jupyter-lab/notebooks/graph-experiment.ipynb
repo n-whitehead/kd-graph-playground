{
 "cells": [
  {
   "cell_type": "code",
   "execution_count": 1,
   "metadata": {},
   "outputs": [],
   "source": [
    "from py2neo import Graph\n",
    "import numpy as np\n",
    "import pandas as pd\n",
    "import os"
   ]
  },
  {
   "cell_type": "code",
   "execution_count": 2,
   "metadata": {},
   "outputs": [],
   "source": [
    "class Py2NeoGraph(object):\n",
    "    \n",
    "    def __init__(self, user:str, password:str):\n",
    "        self._graph = Graph('http://neo4j:7474/', user=user, password=password)\n",
    "        self._exports = ['export.auth-citations',\n",
    "                            'export.authors-of-article',\n",
    "                            'export.authors-of-work',\n",
    "                            'export.co-authors',\n",
    "                            'export.journal-articles',\n",
    "                            'export.organizations']\n",
    "    \n",
    "    @property\n",
    "    def graph(self):\n",
    "        return self._graph\n",
    "    \n",
    "    @graph.setter\n",
    "    def graph(self, graph: Graph):\n",
    "        self._graph = graph\n",
    "        \n",
    "    @property\n",
    "    def exports(self):\n",
    "        return self._exports\n",
    "    \n",
    "    #### TODO: make this better\n",
    "    def load_all_schemas_cypher(self):\n",
    "        tx = self.graph.begin()\n",
    "        for export in self.exports:\n",
    "            tx.run('CALL apoc.cypher.runSchemaFile(\"/var/lib/neo4j/import/schema/%s.schema.cypher\")' % export)\n",
    "        tx.commit()\n",
    "    \n",
    "    #### TODO: make this better\n",
    "    def load_all_data_cypher(self):\n",
    "        tx = self.graph.begin()\n",
    "        for export in self.exports:\n",
    "            tx.run('''\n",
    "                    CALL apoc.cypher.runFiles([\"/var/lib/neo4j/import/load/%s.nodes.cypher\",\n",
    "                   \"/var/lib/neo4j/import/load/%s.relationships.cypher\"])'''\n",
    "                    % (export, export))\n",
    "        tx.commit()\n",
    "    \n",
    "    #### TODO: make this better\n",
    "    def clear_all_data_cypher(self):\n",
    "        tx = self.graph.begin()\n",
    "        tx.run(\"CALL apoc.periodic.iterate('MATCH (n) RETURN n', 'DETACH DELETE n', {batchSize:50})\")\n",
    "        tx.commit()\n",
    "        \n",
    "#### If batch loading, using tx.process() every 1000 or so"
   ]
  },
  {
   "cell_type": "code",
   "execution_count": 3,
   "metadata": {},
   "outputs": [],
   "source": [
    "graph = Py2NeoGraph(user='', password='')"
   ]
  },
  {
   "cell_type": "code",
   "execution_count": 4,
   "metadata": {},
   "outputs": [],
   "source": [
    "graph.load_all_schemas_cypher()"
   ]
  },
  {
   "cell_type": "code",
   "execution_count": 5,
   "metadata": {},
   "outputs": [],
   "source": [
    "graph.load_all_data_cypher()"
   ]
  },
  {
   "cell_type": "code",
   "execution_count": 8,
   "metadata": {},
   "outputs": [
    {
     "name": "stdout",
     "output_type": "stream",
     "text": [
      "Requirement already satisfied: ampligraph in /opt/conda/lib/python3.8/site-packages (1.3.2)\n",
      "Requirement already satisfied: sphinx<3,>=2.2 in /opt/conda/lib/python3.8/site-packages (from ampligraph) (2.4.4)\n",
      "Requirement already satisfied: beautifultable>=0.7.0 in /opt/conda/lib/python3.8/site-packages (from ampligraph) (1.0.0)\n",
      "Requirement already satisfied: networkx>=2.3 in /opt/conda/lib/python3.8/site-packages (from ampligraph) (2.5)\n",
      "Requirement already satisfied: scikit-learn>=0.19.1 in /opt/conda/lib/python3.8/site-packages (from ampligraph) (0.23.2)\n",
      "Requirement already satisfied: tqdm>=4.23.4 in /opt/conda/lib/python3.8/site-packages (from ampligraph) (4.49.0)\n",
      "Requirement already satisfied: sphinxcontrib-bibtex>=0.4.0 in /opt/conda/lib/python3.8/site-packages (from ampligraph) (1.0.0)\n",
      "Requirement already satisfied: flake8>=3.7.7 in /opt/conda/lib/python3.8/site-packages (from ampligraph) (3.8.3)\n",
      "Requirement already satisfied: pandas>=0.23.1 in /opt/conda/lib/python3.8/site-packages (from ampligraph) (1.1.2)\n",
      "Requirement already satisfied: numpy>=1.14.3 in /opt/conda/lib/python3.8/site-packages (from ampligraph) (1.18.5)\n",
      "Requirement already satisfied: pytest>=3.5.1 in /opt/conda/lib/python3.8/site-packages (from ampligraph) (6.1.0)\n",
      "Requirement already satisfied: recommonmark>=0.4.0 in /opt/conda/lib/python3.8/site-packages (from ampligraph) (0.6.0)\n",
      "Requirement already satisfied: sphinx-rtd-theme>=0.4.0 in /opt/conda/lib/python3.8/site-packages (from ampligraph) (0.5.0)\n",
      "Requirement already satisfied: setuptools>=36 in /opt/conda/lib/python3.8/site-packages (from ampligraph) (49.6.0.post20200917)\n",
      "Requirement already satisfied: scipy>=1.3.0 in /opt/conda/lib/python3.8/site-packages (from ampligraph) (1.4.1)\n",
      "Requirement already satisfied: rdflib>=4.2.2 in /opt/conda/lib/python3.8/site-packages (from ampligraph) (5.0.0)\n",
      "Requirement already satisfied: pyyaml>=3.13 in /opt/conda/lib/python3.8/site-packages (from ampligraph) (5.3.1)\n",
      "Requirement already satisfied: sphinxcontrib-serializinghtml in /opt/conda/lib/python3.8/site-packages (from sphinx<3,>=2.2->ampligraph) (1.1.4)\n",
      "Requirement already satisfied: sphinxcontrib-jsmath in /opt/conda/lib/python3.8/site-packages (from sphinx<3,>=2.2->ampligraph) (1.0.1)\n",
      "Requirement already satisfied: snowballstemmer>=1.1 in /opt/conda/lib/python3.8/site-packages (from sphinx<3,>=2.2->ampligraph) (2.0.0)\n",
      "Requirement already satisfied: Jinja2>=2.3 in /opt/conda/lib/python3.8/site-packages (from sphinx<3,>=2.2->ampligraph) (2.11.2)\n",
      "Requirement already satisfied: docutils>=0.12 in /opt/conda/lib/python3.8/site-packages (from sphinx<3,>=2.2->ampligraph) (0.16)\n",
      "Requirement already satisfied: sphinxcontrib-htmlhelp in /opt/conda/lib/python3.8/site-packages (from sphinx<3,>=2.2->ampligraph) (1.0.3)\n",
      "Requirement already satisfied: Pygments>=2.0 in /opt/conda/lib/python3.8/site-packages (from sphinx<3,>=2.2->ampligraph) (2.7.1)\n",
      "Requirement already satisfied: sphinxcontrib-devhelp in /opt/conda/lib/python3.8/site-packages (from sphinx<3,>=2.2->ampligraph) (1.0.2)\n",
      "Requirement already satisfied: babel!=2.0,>=1.3 in /opt/conda/lib/python3.8/site-packages (from sphinx<3,>=2.2->ampligraph) (2.8.0)\n",
      "Requirement already satisfied: alabaster<0.8,>=0.7 in /opt/conda/lib/python3.8/site-packages (from sphinx<3,>=2.2->ampligraph) (0.7.12)\n",
      "Requirement already satisfied: requests>=2.5.0 in /opt/conda/lib/python3.8/site-packages (from sphinx<3,>=2.2->ampligraph) (2.24.0)\n",
      "Requirement already satisfied: imagesize in /opt/conda/lib/python3.8/site-packages (from sphinx<3,>=2.2->ampligraph) (1.2.0)\n",
      "Requirement already satisfied: sphinxcontrib-qthelp in /opt/conda/lib/python3.8/site-packages (from sphinx<3,>=2.2->ampligraph) (1.0.3)\n",
      "Requirement already satisfied: sphinxcontrib-applehelp in /opt/conda/lib/python3.8/site-packages (from sphinx<3,>=2.2->ampligraph) (1.0.2)\n",
      "Requirement already satisfied: packaging in /opt/conda/lib/python3.8/site-packages (from sphinx<3,>=2.2->ampligraph) (20.4)\n",
      "Requirement already satisfied: wcwidth in /opt/conda/lib/python3.8/site-packages (from beautifultable>=0.7.0->ampligraph) (0.2.5)\n",
      "Requirement already satisfied: decorator>=4.3.0 in /opt/conda/lib/python3.8/site-packages (from networkx>=2.3->ampligraph) (4.4.2)\n",
      "Requirement already satisfied: joblib>=0.11 in /opt/conda/lib/python3.8/site-packages (from scikit-learn>=0.19.1->ampligraph) (0.16.0)\n",
      "Requirement already satisfied: threadpoolctl>=2.0.0 in /opt/conda/lib/python3.8/site-packages (from scikit-learn>=0.19.1->ampligraph) (2.1.0)\n",
      "Requirement already satisfied: oset>=0.1.3 in /opt/conda/lib/python3.8/site-packages (from sphinxcontrib-bibtex>=0.4.0->ampligraph) (0.1.3)\n",
      "Requirement already satisfied: pybtex>=0.20 in /opt/conda/lib/python3.8/site-packages (from sphinxcontrib-bibtex>=0.4.0->ampligraph) (0.22.2)\n",
      "Requirement already satisfied: pybtex-docutils>=0.2.0 in /opt/conda/lib/python3.8/site-packages (from sphinxcontrib-bibtex>=0.4.0->ampligraph) (0.2.2)\n",
      "Requirement already satisfied: pycodestyle<2.7.0,>=2.6.0a1 in /opt/conda/lib/python3.8/site-packages (from flake8>=3.7.7->ampligraph) (2.6.0)\n",
      "Requirement already satisfied: mccabe<0.7.0,>=0.6.0 in /opt/conda/lib/python3.8/site-packages (from flake8>=3.7.7->ampligraph) (0.6.1)\n",
      "Requirement already satisfied: pyflakes<2.3.0,>=2.2.0 in /opt/conda/lib/python3.8/site-packages (from flake8>=3.7.7->ampligraph) (2.2.0)\n",
      "Requirement already satisfied: python-dateutil>=2.7.3 in /opt/conda/lib/python3.8/site-packages (from pandas>=0.23.1->ampligraph) (2.8.1)\n",
      "Requirement already satisfied: pytz>=2017.2 in /opt/conda/lib/python3.8/site-packages (from pandas>=0.23.1->ampligraph) (2020.1)\n",
      "Requirement already satisfied: attrs>=17.4.0 in /opt/conda/lib/python3.8/site-packages (from pytest>=3.5.1->ampligraph) (20.2.0)\n",
      "Requirement already satisfied: toml in /opt/conda/lib/python3.8/site-packages (from pytest>=3.5.1->ampligraph) (0.10.1)\n",
      "Requirement already satisfied: iniconfig in /opt/conda/lib/python3.8/site-packages (from pytest>=3.5.1->ampligraph) (1.0.1)\n",
      "Requirement already satisfied: py>=1.8.2 in /opt/conda/lib/python3.8/site-packages (from pytest>=3.5.1->ampligraph) (1.9.0)\n",
      "Requirement already satisfied: pluggy<1.0,>=0.12 in /opt/conda/lib/python3.8/site-packages (from pytest>=3.5.1->ampligraph) (0.13.1)\n",
      "Requirement already satisfied: commonmark>=0.8.1 in /opt/conda/lib/python3.8/site-packages (from recommonmark>=0.4.0->ampligraph) (0.9.1)\n",
      "Requirement already satisfied: isodate in /opt/conda/lib/python3.8/site-packages (from rdflib>=4.2.2->ampligraph) (0.6.0)\n",
      "Requirement already satisfied: six in /opt/conda/lib/python3.8/site-packages (from rdflib>=4.2.2->ampligraph) (1.15.0)\n",
      "Requirement already satisfied: pyparsing in /opt/conda/lib/python3.8/site-packages (from rdflib>=4.2.2->ampligraph) (2.4.7)\n",
      "Requirement already satisfied: MarkupSafe>=0.23 in /opt/conda/lib/python3.8/site-packages (from Jinja2>=2.3->sphinx<3,>=2.2->ampligraph) (1.1.1)\n",
      "Requirement already satisfied: certifi>=2017.4.17 in /opt/conda/lib/python3.8/site-packages (from requests>=2.5.0->sphinx<3,>=2.2->ampligraph) (2020.6.20)\n",
      "Requirement already satisfied: urllib3!=1.25.0,!=1.25.1,<1.26,>=1.21.1 in /opt/conda/lib/python3.8/site-packages (from requests>=2.5.0->sphinx<3,>=2.2->ampligraph) (1.25.10)\n",
      "Requirement already satisfied: idna<3,>=2.5 in /opt/conda/lib/python3.8/site-packages (from requests>=2.5.0->sphinx<3,>=2.2->ampligraph) (2.10)\n",
      "Requirement already satisfied: chardet<4,>=3.0.2 in /opt/conda/lib/python3.8/site-packages (from requests>=2.5.0->sphinx<3,>=2.2->ampligraph) (3.0.4)\n",
      "Requirement already satisfied: latexcodec>=1.0.4 in /opt/conda/lib/python3.8/site-packages (from pybtex>=0.20->sphinxcontrib-bibtex>=0.4.0->ampligraph) (2.0.1)\n"
     ]
    }
   ],
   "source": [
    "!pip install ampligraph"
   ]
  },
  {
   "cell_type": "code",
   "execution_count": 9,
   "metadata": {},
   "outputs": [],
   "source": [
    "import ampligraph"
   ]
  },
  {
   "cell_type": "code",
   "execution_count": 10,
   "metadata": {},
   "outputs": [
    {
     "data": {
      "text/plain": [
       "'1.3.2'"
      ]
     },
     "execution_count": 10,
     "metadata": {},
     "output_type": "execute_result"
    }
   ],
   "source": [
    "ampligraph.__version__"
   ]
  },
  {
   "cell_type": "code",
   "execution_count": null,
   "metadata": {},
   "outputs": [],
   "source": []
  }
 ],
 "metadata": {
  "kernelspec": {
   "display_name": "Python 3",
   "language": "python",
   "name": "python3"
  },
  "language_info": {
   "codemirror_mode": {
    "name": "ipython",
    "version": 3
   },
   "file_extension": ".py",
   "mimetype": "text/x-python",
   "name": "python",
   "nbconvert_exporter": "python",
   "pygments_lexer": "ipython3",
   "version": "3.8.5"
  }
 },
 "nbformat": 4,
 "nbformat_minor": 4
}
