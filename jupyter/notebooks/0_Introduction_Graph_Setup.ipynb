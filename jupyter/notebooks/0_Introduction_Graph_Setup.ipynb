{
 "cells": [
  {
   "cell_type": "markdown",
   "metadata": {},
   "source": [
    "# Recommending Peer Reviewers Based on Existing Concepts\n",
    "\n",
    "The following experiment attempts to recommend peer reviewers for new research based on tagged OmniScience concepts. The underlying technology used is Neo4j, and the Neosemantics (n10s) plugin. The following notebook provides useful markup for understanding the process of loading data, and experimentation via the py2neo library."
   ]
  },
  {
   "cell_type": "code",
   "execution_count": 1,
   "metadata": {},
   "outputs": [],
   "source": [
    "from py2neo import Graph\n",
    "from py2neo.matching import NodeMatcher, RelationshipMatcher\n",
    "from py2neo.data import Node, Relationship\n",
    "import numpy as np\n",
    "import os\n",
    "import itertools"
   ]
  },
  {
   "cell_type": "markdown",
   "metadata": {},
   "source": [
    "### Neo4J Connection"
   ]
  },
  {
   "cell_type": "markdown",
   "metadata": {},
   "source": [
    "We connect to a linked neo4j docker instance within our bridged network. Since this is a local demonstration, security is not a concern."
   ]
  },
  {
   "cell_type": "code",
   "execution_count": 2,
   "metadata": {},
   "outputs": [],
   "source": [
    "uri = 'http://neo4j:7474/'\n",
    "graph = Graph(uri, user='neo4j', password='test', name='test')"
   ]
  },
  {
   "cell_type": "markdown",
   "metadata": {},
   "source": [
    "### Neosemantics Configuration"
   ]
  },
  {
   "cell_type": "markdown",
   "metadata": {},
   "source": [
    "Calling Neosemantics `graphconfig.init()` to load the constraints for dealing with Linked Data."
   ]
  },
  {
   "cell_type": "code",
   "execution_count": 3,
   "metadata": {},
   "outputs": [
    {
     "data": {
      "text/plain": [
       " param           | value     \n",
       "-----------------|-----------\n",
       " handleVocabUris | SHORTEN   \n",
       " handleMultival  | OVERWRITE \n",
       " handleRDFTypes  | LABELS    "
      ]
     },
     "execution_count": 3,
     "metadata": {},
     "output_type": "execute_result"
    }
   ],
   "source": [
    "# If graph isn't empty, don't initialize graphconfigs\n",
    "if graph.match_one() == None:\n",
    "    graph.call.n10s.graphconfig.init()\n",
    "graph.call.n10s.graphconfig.show()"
   ]
  },
  {
   "cell_type": "markdown",
   "metadata": {},
   "source": [
    "Presetting some common prefixes to make the graph readable, and forcing Neosemantics to use appropriate namespace prefixes."
   ]
  },
  {
   "cell_type": "code",
   "execution_count": 4,
   "metadata": {},
   "outputs": [
    {
     "data": {
      "text/plain": [
       " row | result                                                                                            \n",
       "-----|---------------------------------------------------------------------------------------------------\n",
       "   0 | {prefix: 'dct', namespace: 'http://purl.org/dc/terms/'}                                           \n",
       "   1 | {prefix: 'knovelproperties', namespace: 'http://data.elsevier.com/vocabulary/knovel/properties/'} \n",
       "   2 | {prefix: 'xsd', namespace: 'http://www.w3.org/2001/XMLSchema#'}                                   "
      ]
     },
     "execution_count": 4,
     "metadata": {},
     "output_type": "execute_result"
    }
   ],
   "source": [
    "graph.call.apoc.cypher.runFile('/var/lib/neo4j/import/omniscience/queries/prefixSetter.cypher')"
   ]
  },
  {
   "cell_type": "markdown",
   "metadata": {},
   "source": [
    "Creating a uniqueness constraint on Resources. Resources are defined as nodes that can be dereferenced via their `uri` property."
   ]
  },
  {
   "cell_type": "code",
   "execution_count": 5,
   "metadata": {},
   "outputs": [],
   "source": [
    "if not graph.schema.get_uniqueness_constraints('Resource'):\n",
    "    graph.schema.create_uniqueness_constraint('Resource', 'uri')"
   ]
  },
  {
   "cell_type": "markdown",
   "metadata": {},
   "source": [
    "### Data Loading"
   ]
  },
  {
   "cell_type": "markdown",
   "metadata": {},
   "source": [
    "#### Loading OmniScience"
   ]
  },
  {
   "cell_type": "code",
   "execution_count": 6,
   "metadata": {},
   "outputs": [
    {
     "name": "stdout",
     "output_type": "stream",
     "text": [
      "OmniScience taxonomy appears to be loaded.\n"
     ]
    }
   ],
   "source": [
    "# Make sure taxonomy isn't already loaded...\n",
    "if graph.run(\"MATCH (c:skos__Concept) RETURN c LIMIT 1\") == None:\n",
    "    graph.run(\"CALL n10s.rdf.import.fetch('file:///var/lib/neo4j/import/omniscience/statements.ttl', 'Turtle')\")\n",
    "    print('Successfully loaded Omniscience vocabulary.')\n",
    "else:\n",
    "    print('OmniScience taxonomy appears to be loaded.')"
   ]
  },
  {
   "cell_type": "markdown",
   "metadata": {},
   "source": [
    "#### Loading Mock C-Graph Data\n",
    "\n",
    "In this section, we will load some mocked C-Graph data to prove the concept. First we create some constraints:"
   ]
  },
  {
   "cell_type": "code",
   "execution_count": 7,
   "metadata": {},
   "outputs": [],
   "source": [
    "if not graph.schema.get_uniqueness_constraints('Person'):\n",
    "    graph.schema.create_uniqueness_constraint('Person', 'ID')\n",
    "if not graph.schema.get_uniqueness_constraints('Work'):\n",
    "    graph.schema.create_uniqueness_constraint('Work', 'ID')"
   ]
  },
  {
   "cell_type": "markdown",
   "metadata": {},
   "source": [
    "Loading a sample file with authors and works around a small set of concepts:"
   ]
  },
  {
   "cell_type": "code",
   "execution_count": 8,
   "metadata": {},
   "outputs": [
    {
     "name": "stdout",
     "output_type": "stream",
     "text": [
      "Loaded sample c-graph data mapped to concepts.\n"
     ]
    }
   ],
   "source": [
    "graph.call.apoc.cypher.runFile('/var/lib/neo4j/import/omniscience/queries/peer-review-recommender/setup/small-c-graph-sample.cypher')\n",
    "print('Loaded sample c-graph data mapped to concepts.')"
   ]
  },
  {
   "cell_type": "markdown",
   "metadata": {},
   "source": [
    "### Experiment: Predicting Peer Reviewers\n",
    "\n",
    "In this section, we will go over an algorithmic approach to recommend peer reviewers by finding a topic-focused h-index value."
   ]
  },
  {
   "cell_type": "markdown",
   "metadata": {},
   "source": [
    "#### Algorithm"
   ]
  },
  {
   "cell_type": "markdown",
   "metadata": {},
   "source": [
    "#### Implementation\n",
    "\n",
    "Assume a potential work is tagged with the following 4 concepts:"
   ]
  },
  {
   "cell_type": "code",
   "execution_count": 3,
   "metadata": {},
   "outputs": [],
   "source": [
    "concepts = ['http://data.elsevier.com/vocabulary/OmniScience/Concept-237619301', \n",
    "            'http://data.elsevier.com/vocabulary/OmniScience/Concept-237619045',\n",
    "            'http://data.elsevier.com/vocabulary/OmniScience/Concept-237619307',\n",
    "            'http://data.elsevier.com/vocabulary/OmniScience/Concept-237619301']"
   ]
  },
  {
   "cell_type": "markdown",
   "metadata": {},
   "source": [
    "Let's collect the nodes from the taxonomy graph as Node objects in py2neo"
   ]
  },
  {
   "cell_type": "code",
   "execution_count": 7,
   "metadata": {},
   "outputs": [],
   "source": [
    "node_list = []\n",
    "node_matcher = NodeMatcher(graph)\n",
    "for concept in concepts:\n",
    "    node_list.append(node_matcher.match(\"skos__Concept\", uri=concept).first())"
   ]
  },
  {
   "cell_type": "code",
   "execution_count": 9,
   "metadata": {},
   "outputs": [
    {
     "data": {
      "text/plain": [
       "[Node('Resource', 'skos__Concept', dct__creator='Chiara Latronico', skos__prefLabel='Ephedra americana', uri='http://data.elsevier.com/vocabulary/OmniScience/Concept-237619301'),\n",
       " Node('Resource', 'skos__Concept', dct__creator='Chiara Latronico', skos__prefLabel='Ephedra', uri='http://data.elsevier.com/vocabulary/OmniScience/Concept-237619045'),\n",
       " Node('Resource', 'skos__Concept', dct__creator='Chiara Latronico', skos__prefLabel='Ephedra californica', uri='http://data.elsevier.com/vocabulary/OmniScience/Concept-237619307'),\n",
       " Node('Resource', 'skos__Concept', dct__creator='Chiara Latronico', skos__prefLabel='Ephedra americana', uri='http://data.elsevier.com/vocabulary/OmniScience/Concept-237619301')]"
      ]
     },
     "execution_count": 9,
     "metadata": {},
     "output_type": "execute_result"
    }
   ],
   "source": [
    "node_list"
   ]
  },
  {
   "cell_type": "markdown",
   "metadata": {},
   "source": [
    "First, let's filter out duplicate nodes:"
   ]
  },
  {
   "cell_type": "code",
   "execution_count": 52,
   "metadata": {},
   "outputs": [
    {
     "data": {
      "text/plain": [
       "{Node('Resource', 'skos__Concept', dct__creator='Chiara Latronico', skos__prefLabel='Ephedra americana', uri='http://data.elsevier.com/vocabulary/OmniScience/Concept-237619301'),\n",
       " Node('Resource', 'skos__Concept', dct__creator='Chiara Latronico', skos__prefLabel='Ephedra californica', uri='http://data.elsevier.com/vocabulary/OmniScience/Concept-237619307'),\n",
       " Node('Resource', 'skos__Concept', dct__creator='Chiara Latronico', skos__prefLabel='Ephedra', uri='http://data.elsevier.com/vocabulary/OmniScience/Concept-237619045')}"
      ]
     },
     "execution_count": 52,
     "metadata": {},
     "output_type": "execute_result"
    }
   ],
   "source": [
    "unique_nodes = set(node_list)\n",
    "unique_nodes"
   ]
  },
  {
   "cell_type": "markdown",
   "metadata": {},
   "source": [
    "Next, we make sure permutations of this set have no strictly broader concepts to one another."
   ]
  },
  {
   "cell_type": "code",
   "execution_count": 60,
   "metadata": {},
   "outputs": [],
   "source": [
    "# This is bad, not worried about performance just yet :)\n",
    "def invalid(concepts: list):\n",
    "    for perm in itertools.permutations(list(concepts), 2):\n",
    "        invalid_concepts = []\n",
    "        compare = graph.run(\"MATCH (c1:skos__Concept {uri: '%s'})-[:skos__broader*1..]->(c2:skos__Concept {uri: '%s'}) RETURN c2\" % (perm[0]['uri'], perm[1]['uri']))\n",
    "        if compare is not None:\n",
    "            invalid_concepts.append(perm[1])\n",
    "    return set(invalid_concepts)"
   ]
  },
  {
   "cell_type": "code",
   "execution_count": 62,
   "metadata": {},
   "outputs": [],
   "source": [
    "slim_concepts = [concept for concept in unique_nodes if concept not in invalid(unique_nodes)]"
   ]
  },
  {
   "cell_type": "markdown",
   "metadata": {},
   "source": [
    "Now our list contains concepts are as narrow as possible, without duplication."
   ]
  },
  {
   "cell_type": "code",
   "execution_count": 63,
   "metadata": {},
   "outputs": [
    {
     "data": {
      "text/plain": [
       "[Node('Resource', 'skos__Concept', dct__creator='Chiara Latronico', skos__prefLabel='Ephedra californica', uri='http://data.elsevier.com/vocabulary/OmniScience/Concept-237619307'),\n",
       " Node('Resource', 'skos__Concept', dct__creator='Chiara Latronico', skos__prefLabel='Ephedra americana', uri='http://data.elsevier.com/vocabulary/OmniScience/Concept-237619301')]"
      ]
     },
     "execution_count": 63,
     "metadata": {},
     "output_type": "execute_result"
    }
   ],
   "source": [
    "slim_concepts"
   ]
  },
  {
   "cell_type": "markdown",
   "metadata": {},
   "source": [
    "Let's expand these concepts to get our First Degree Works."
   ]
  },
  {
   "cell_type": "code",
   "execution_count": null,
   "metadata": {},
   "outputs": [],
   "source": []
  },
  {
   "cell_type": "code",
   "execution_count": null,
   "metadata": {},
   "outputs": [],
   "source": []
  },
  {
   "cell_type": "code",
   "execution_count": null,
   "metadata": {},
   "outputs": [],
   "source": []
  },
  {
   "cell_type": "code",
   "execution_count": null,
   "metadata": {},
   "outputs": [],
   "source": []
  },
  {
   "cell_type": "code",
   "execution_count": 4,
   "metadata": {},
   "outputs": [],
   "source": [
    "def hIndex(citation_counts: list):\n",
    "    citation_counts.sort(reverse=True)\n",
    "    for index, citation_count in enumerate(citation_counts):\n",
    "        if index > citation_count:\n",
    "            return index\n",
    "    return len(citation_counts)"
   ]
  },
  {
   "cell_type": "code",
   "execution_count": 7,
   "metadata": {},
   "outputs": [
    {
     "name": "stdout",
     "output_type": "stream",
     "text": [
      "3\n"
     ]
    }
   ],
   "source": [
    "print(hIndex([3,3,4]))"
   ]
  },
  {
   "cell_type": "code",
   "execution_count": null,
   "metadata": {},
   "outputs": [],
   "source": []
  }
 ],
 "metadata": {
  "kernelspec": {
   "display_name": "Python 3",
   "language": "python",
   "name": "python3"
  },
  "language_info": {
   "codemirror_mode": {
    "name": "ipython",
    "version": 3
   },
   "file_extension": ".py",
   "mimetype": "text/x-python",
   "name": "python",
   "nbconvert_exporter": "python",
   "pygments_lexer": "ipython3",
   "version": "3.8.6"
  }
 },
 "nbformat": 4,
 "nbformat_minor": 4
}
